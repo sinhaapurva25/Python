{
 "cells": [
  {
   "cell_type": "code",
   "execution_count": 43,
   "metadata": {},
   "outputs": [],
   "source": [
    "class HashTable:\n",
    "    def __init__(self):\n",
    "        self.MAX = 100\n",
    "        self.arr = [[] for i in range(self.MAX)]\n",
    "\n",
    "    # def get_hash(self, key):\n",
    "    #     hash = 0\n",
    "    #     for char in key:\n",
    "    #         hash += ord(char)\n",
    "    #     return hash % self.MAX\n",
    "\n",
    "    def get_hash(self, key):\n",
    "        return int(key.split(' ')[1])%10\n",
    "\n",
    "    def __setitem__(self, key, val):\n",
    "        h = self.get_hash(key)\n",
    "        found = False\n",
    "        for idx, element in enumerate(self.arr[h]):\n",
    "            if len(element) == 2 and element[0] == key:\n",
    "                self.arr[h][idx] = (key, val)\n",
    "                found = True\n",
    "                break\n",
    "        if not found:\n",
    "            self.arr[h].append((key, val))\n",
    "\n",
    "    def __getitem__(self, key):\n",
    "        h = self.get_hash(key)\n",
    "\n",
    "        for element in self.arr[h]:\n",
    "            if element[0] == key:\n",
    "                return element[1]\n",
    "\n",
    "    def __delitem__(self, key):\n",
    "        h = self.get_hash(key)\n",
    "        for index, kv in enumerate(self.arr[h]):\n",
    "            if kv[0] == key:\n",
    "                print(\"del\",index)\n",
    "                del self.arr[h][index]"
   ]
  },
  {
   "cell_type": "code",
   "execution_count": 44,
   "metadata": {},
   "outputs": [],
   "source": [
    "hashtable = HashTable()"
   ]
  },
  {
   "cell_type": "code",
   "execution_count": 45,
   "metadata": {},
   "outputs": [],
   "source": [
    "hashtable[\"march 6\"]= 120\n",
    "hashtable[\"march 16\"]= 78\n",
    "hashtable[\"march 1\"]= 22\n",
    "hashtable[\"march 2\"]= 89\n",
    "hashtable[\"march 15\"]= 89\n",
    "hashtable[\"march 5\"]= 1\n",
    "hashtable[\"march 25\"]= 104\n",
    "hashtable[\"march 7\"]= 67\n",
    "hashtable[\"march 17\"]= 4\n",
    "hashtable[\"march 27\"]= 459"
   ]
  },
  {
   "cell_type": "code",
   "execution_count": 46,
   "metadata": {},
   "outputs": [
    {
     "name": "stdout",
     "output_type": "stream",
     "text": [
      "[('march 1', 22)] \n",
      "\n",
      "[('march 2', 89)] \n",
      "\n",
      "[('march 15', 89), ('march 5', 1), ('march 25', 104)] \n",
      "\n",
      "[('march 6', 120), ('march 16', 78)] \n",
      "\n",
      "[('march 7', 67), ('march 17', 4), ('march 27', 459)] \n",
      "\n"
     ]
    },
    {
     "data": {
      "text/plain": [
       "[None, None, None, None, None]"
      ]
     },
     "execution_count": 46,
     "metadata": {},
     "output_type": "execute_result"
    }
   ],
   "source": [
    "[print(i,'\\n') for i in hashtable.arr if len(i) > 0]"
   ]
  },
  {
   "cell_type": "code",
   "execution_count": 47,
   "metadata": {},
   "outputs": [
    {
     "name": "stdout",
     "output_type": "stream",
     "text": [
      "459\n"
     ]
    }
   ],
   "source": [
    "print(hashtable[\"march 27\"])"
   ]
  },
  {
   "cell_type": "code",
   "execution_count": 48,
   "metadata": {},
   "outputs": [
    {
     "name": "stdout",
     "output_type": "stream",
     "text": [
      "del 2\n"
     ]
    }
   ],
   "source": [
    "del hashtable[\"march 27\"]"
   ]
  },
  {
   "cell_type": "code",
   "execution_count": 49,
   "metadata": {},
   "outputs": [
    {
     "name": "stdout",
     "output_type": "stream",
     "text": [
      "None\n"
     ]
    }
   ],
   "source": [
    "print(hashtable[\"march 27\"])"
   ]
  }
 ],
 "metadata": {
  "kernelspec": {
   "display_name": "Python 3",
   "language": "python",
   "name": "python3"
  },
  "language_info": {
   "codemirror_mode": {
    "name": "ipython",
    "version": 3
   },
   "file_extension": ".py",
   "mimetype": "text/x-python",
   "name": "python",
   "nbconvert_exporter": "python",
   "pygments_lexer": "ipython3",
   "version": "3.7.0"
  },
  "orig_nbformat": 4,
  "vscode": {
   "interpreter": {
    "hash": "52634da84371cba311ea128a5ea7cdc41ff074b781779e754b270ff9f8153cee"
   }
  }
 },
 "nbformat": 4,
 "nbformat_minor": 2
}
