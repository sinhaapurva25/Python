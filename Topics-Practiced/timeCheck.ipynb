{
 "cells": [
  {
   "cell_type": "code",
   "execution_count": 1,
   "metadata": {},
   "outputs": [],
   "source": [
    "import time"
   ]
  },
  {
   "cell_type": "code",
   "execution_count": 2,
   "metadata": {},
   "outputs": [],
   "source": [
    "def tabulate_T_n():\n",
    "    timearray = list()\n",
    "    for i in range(10):\n",
    "        start=time.time()\n",
    "        time.sleep(0.5)\n",
    "        timearray.append(time.time() - start)\n",
    "    return timearray"
   ]
  },
  {
   "cell_type": "code",
   "execution_count": 3,
   "metadata": {},
   "outputs": [
    {
     "data": {
      "text/plain": [
       "[0.5031328201293945,\n",
       " 0.5009946823120117,\n",
       " 0.5125241279602051,\n",
       " 0.5145778656005859,\n",
       " 0.5146048069000244,\n",
       " 0.5120627880096436,\n",
       " 0.5129141807556152,\n",
       " 0.5125682353973389,\n",
       " 0.5001842975616455,\n",
       " 0.5106706619262695]"
      ]
     },
     "execution_count": 3,
     "metadata": {},
     "output_type": "execute_result"
    }
   ],
   "source": [
    "tabulate_T_n()"
   ]
  }
 ],
 "metadata": {
  "kernelspec": {
   "display_name": "Python 3.10.0 64-bit",
   "language": "python",
   "name": "python3"
  },
  "language_info": {
   "codemirror_mode": {
    "name": "ipython",
    "version": 3
   },
   "file_extension": ".py",
   "mimetype": "text/x-python",
   "name": "python",
   "nbconvert_exporter": "python",
   "pygments_lexer": "ipython3",
   "version": "3.10.0"
  },
  "orig_nbformat": 4,
  "vscode": {
   "interpreter": {
    "hash": "05b2657630491085f8afbfdf2bfd0491452bae39dfa118b08ac6e00cdce9e088"
   }
  }
 },
 "nbformat": 4,
 "nbformat_minor": 2
}
